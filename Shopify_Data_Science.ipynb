{
  "nbformat": 4,
  "nbformat_minor": 0,
  "metadata": {
    "colab": {
      "name": "Shopify Data Science.ipynb",
      "provenance": [],
      "toc_visible": true,
      "authorship_tag": "ABX9TyOIDKFrbvuTJ0tBqm8763Ci"
    },
    "kernelspec": {
      "name": "python3",
      "display_name": "Python 3"
    },
    "language_info": {
      "name": "python"
    }
  },
  "cells": [
    {
      "cell_type": "markdown",
      "source": [
        "# Question 1"
      ],
      "metadata": {
        "id": "wf0r-6jSE8Ru"
      }
    },
    {
      "cell_type": "code",
      "execution_count": null,
      "metadata": {
        "colab": {
          "base_uri": "https://localhost:8080/",
          "height": 206
        },
        "id": "3ysRzrOKE7-5",
        "outputId": "b0e1b823-90fb-42b0-ad59-7f3d6dcecc35"
      },
      "outputs": [
        {
          "output_type": "execute_result",
          "data": {
            "text/plain": [
              "   order_id  shop_id  user_id  order_amount  total_items payment_method  \\\n",
              "0       1.0     53.0    746.0         224.0          2.0           cash   \n",
              "1       2.0     92.0    925.0          90.0          1.0           cash   \n",
              "2       3.0     44.0    861.0         144.0          1.0           cash   \n",
              "3       4.0     18.0    935.0         156.0          1.0    credit_card   \n",
              "4       5.0     18.0    883.0         156.0          1.0    credit_card   \n",
              "\n",
              "               created_at  \n",
              "0 2017-03-13 12:36:56.190  \n",
              "1 2017-03-03 17:38:51.999  \n",
              "2 2017-03-14 04:23:55.595  \n",
              "3 2017-03-26 12:43:36.649  \n",
              "4 2017-03-01 04:35:10.773  "
            ],
            "text/html": [
              "\n",
              "  <div id=\"df-46845ed5-3edc-44d5-8395-4f9eb90e1b10\">\n",
              "    <div class=\"colab-df-container\">\n",
              "      <div>\n",
              "<style scoped>\n",
              "    .dataframe tbody tr th:only-of-type {\n",
              "        vertical-align: middle;\n",
              "    }\n",
              "\n",
              "    .dataframe tbody tr th {\n",
              "        vertical-align: top;\n",
              "    }\n",
              "\n",
              "    .dataframe thead th {\n",
              "        text-align: right;\n",
              "    }\n",
              "</style>\n",
              "<table border=\"1\" class=\"dataframe\">\n",
              "  <thead>\n",
              "    <tr style=\"text-align: right;\">\n",
              "      <th></th>\n",
              "      <th>order_id</th>\n",
              "      <th>shop_id</th>\n",
              "      <th>user_id</th>\n",
              "      <th>order_amount</th>\n",
              "      <th>total_items</th>\n",
              "      <th>payment_method</th>\n",
              "      <th>created_at</th>\n",
              "    </tr>\n",
              "  </thead>\n",
              "  <tbody>\n",
              "    <tr>\n",
              "      <th>0</th>\n",
              "      <td>1.0</td>\n",
              "      <td>53.0</td>\n",
              "      <td>746.0</td>\n",
              "      <td>224.0</td>\n",
              "      <td>2.0</td>\n",
              "      <td>cash</td>\n",
              "      <td>2017-03-13 12:36:56.190</td>\n",
              "    </tr>\n",
              "    <tr>\n",
              "      <th>1</th>\n",
              "      <td>2.0</td>\n",
              "      <td>92.0</td>\n",
              "      <td>925.0</td>\n",
              "      <td>90.0</td>\n",
              "      <td>1.0</td>\n",
              "      <td>cash</td>\n",
              "      <td>2017-03-03 17:38:51.999</td>\n",
              "    </tr>\n",
              "    <tr>\n",
              "      <th>2</th>\n",
              "      <td>3.0</td>\n",
              "      <td>44.0</td>\n",
              "      <td>861.0</td>\n",
              "      <td>144.0</td>\n",
              "      <td>1.0</td>\n",
              "      <td>cash</td>\n",
              "      <td>2017-03-14 04:23:55.595</td>\n",
              "    </tr>\n",
              "    <tr>\n",
              "      <th>3</th>\n",
              "      <td>4.0</td>\n",
              "      <td>18.0</td>\n",
              "      <td>935.0</td>\n",
              "      <td>156.0</td>\n",
              "      <td>1.0</td>\n",
              "      <td>credit_card</td>\n",
              "      <td>2017-03-26 12:43:36.649</td>\n",
              "    </tr>\n",
              "    <tr>\n",
              "      <th>4</th>\n",
              "      <td>5.0</td>\n",
              "      <td>18.0</td>\n",
              "      <td>883.0</td>\n",
              "      <td>156.0</td>\n",
              "      <td>1.0</td>\n",
              "      <td>credit_card</td>\n",
              "      <td>2017-03-01 04:35:10.773</td>\n",
              "    </tr>\n",
              "  </tbody>\n",
              "</table>\n",
              "</div>\n",
              "      <button class=\"colab-df-convert\" onclick=\"convertToInteractive('df-46845ed5-3edc-44d5-8395-4f9eb90e1b10')\"\n",
              "              title=\"Convert this dataframe to an interactive table.\"\n",
              "              style=\"display:none;\">\n",
              "        \n",
              "  <svg xmlns=\"http://www.w3.org/2000/svg\" height=\"24px\"viewBox=\"0 0 24 24\"\n",
              "       width=\"24px\">\n",
              "    <path d=\"M0 0h24v24H0V0z\" fill=\"none\"/>\n",
              "    <path d=\"M18.56 5.44l.94 2.06.94-2.06 2.06-.94-2.06-.94-.94-2.06-.94 2.06-2.06.94zm-11 1L8.5 8.5l.94-2.06 2.06-.94-2.06-.94L8.5 2.5l-.94 2.06-2.06.94zm10 10l.94 2.06.94-2.06 2.06-.94-2.06-.94-.94-2.06-.94 2.06-2.06.94z\"/><path d=\"M17.41 7.96l-1.37-1.37c-.4-.4-.92-.59-1.43-.59-.52 0-1.04.2-1.43.59L10.3 9.45l-7.72 7.72c-.78.78-.78 2.05 0 2.83L4 21.41c.39.39.9.59 1.41.59.51 0 1.02-.2 1.41-.59l7.78-7.78 2.81-2.81c.8-.78.8-2.07 0-2.86zM5.41 20L4 18.59l7.72-7.72 1.47 1.35L5.41 20z\"/>\n",
              "  </svg>\n",
              "      </button>\n",
              "      \n",
              "  <style>\n",
              "    .colab-df-container {\n",
              "      display:flex;\n",
              "      flex-wrap:wrap;\n",
              "      gap: 12px;\n",
              "    }\n",
              "\n",
              "    .colab-df-convert {\n",
              "      background-color: #E8F0FE;\n",
              "      border: none;\n",
              "      border-radius: 50%;\n",
              "      cursor: pointer;\n",
              "      display: none;\n",
              "      fill: #1967D2;\n",
              "      height: 32px;\n",
              "      padding: 0 0 0 0;\n",
              "      width: 32px;\n",
              "    }\n",
              "\n",
              "    .colab-df-convert:hover {\n",
              "      background-color: #E2EBFA;\n",
              "      box-shadow: 0px 1px 2px rgba(60, 64, 67, 0.3), 0px 1px 3px 1px rgba(60, 64, 67, 0.15);\n",
              "      fill: #174EA6;\n",
              "    }\n",
              "\n",
              "    [theme=dark] .colab-df-convert {\n",
              "      background-color: #3B4455;\n",
              "      fill: #D2E3FC;\n",
              "    }\n",
              "\n",
              "    [theme=dark] .colab-df-convert:hover {\n",
              "      background-color: #434B5C;\n",
              "      box-shadow: 0px 1px 3px 1px rgba(0, 0, 0, 0.15);\n",
              "      filter: drop-shadow(0px 1px 2px rgba(0, 0, 0, 0.3));\n",
              "      fill: #FFFFFF;\n",
              "    }\n",
              "  </style>\n",
              "\n",
              "      <script>\n",
              "        const buttonEl =\n",
              "          document.querySelector('#df-46845ed5-3edc-44d5-8395-4f9eb90e1b10 button.colab-df-convert');\n",
              "        buttonEl.style.display =\n",
              "          google.colab.kernel.accessAllowed ? 'block' : 'none';\n",
              "\n",
              "        async function convertToInteractive(key) {\n",
              "          const element = document.querySelector('#df-46845ed5-3edc-44d5-8395-4f9eb90e1b10');\n",
              "          const dataTable =\n",
              "            await google.colab.kernel.invokeFunction('convertToInteractive',\n",
              "                                                     [key], {});\n",
              "          if (!dataTable) return;\n",
              "\n",
              "          const docLinkHtml = 'Like what you see? Visit the ' +\n",
              "            '<a target=\"_blank\" href=https://colab.research.google.com/notebooks/data_table.ipynb>data table notebook</a>'\n",
              "            + ' to learn more about interactive tables.';\n",
              "          element.innerHTML = '';\n",
              "          dataTable['output_type'] = 'display_data';\n",
              "          await google.colab.output.renderOutput(dataTable, element);\n",
              "          const docLink = document.createElement('div');\n",
              "          docLink.innerHTML = docLinkHtml;\n",
              "          element.appendChild(docLink);\n",
              "        }\n",
              "      </script>\n",
              "    </div>\n",
              "  </div>\n",
              "  "
            ]
          },
          "metadata": {},
          "execution_count": 2
        }
      ],
      "source": [
        "import pandas as pd\n",
        "PATH = \"/content/2019 Winter Data Science Intern Challenge Data Set.xlsx\"\n",
        "\n",
        "df = pd.read_excel(PATH)\n",
        "df.head(5)"
      ]
    },
    {
      "cell_type": "code",
      "source": [
        "df.info()"
      ],
      "metadata": {
        "colab": {
          "base_uri": "https://localhost:8080/"
        },
        "id": "3lHwHEh5FkgB",
        "outputId": "44bd4272-014c-4d78-c8b1-258b7a2df452"
      },
      "execution_count": null,
      "outputs": [
        {
          "output_type": "stream",
          "name": "stdout",
          "text": [
            "<class 'pandas.core.frame.DataFrame'>\n",
            "RangeIndex: 5000 entries, 0 to 4999\n",
            "Data columns (total 7 columns):\n",
            " #   Column          Non-Null Count  Dtype         \n",
            "---  ------          --------------  -----         \n",
            " 0   order_id        5000 non-null   float64       \n",
            " 1   shop_id         5000 non-null   float64       \n",
            " 2   user_id         5000 non-null   float64       \n",
            " 3   order_amount    5000 non-null   float64       \n",
            " 4   total_items     5000 non-null   float64       \n",
            " 5   payment_method  5000 non-null   object        \n",
            " 6   created_at      5000 non-null   datetime64[ns]\n",
            "dtypes: datetime64[ns](1), float64(5), object(1)\n",
            "memory usage: 273.6+ KB\n"
          ]
        }
      ]
    },
    {
      "cell_type": "code",
      "source": [
        "#Check for missing values\n",
        "df.isna().sum()"
      ],
      "metadata": {
        "colab": {
          "base_uri": "https://localhost:8080/"
        },
        "id": "4G-T5ASbniYH",
        "outputId": "f11ab322-2d1b-4909-f3ef-89539957a32c"
      },
      "execution_count": null,
      "outputs": [
        {
          "output_type": "execute_result",
          "data": {
            "text/plain": [
              "order_id          0\n",
              "shop_id           0\n",
              "user_id           0\n",
              "order_amount      0\n",
              "total_items       0\n",
              "payment_method    0\n",
              "created_at        0\n",
              "dtype: int64"
            ]
          },
          "metadata": {},
          "execution_count": 4
        }
      ]
    },
    {
      "cell_type": "code",
      "source": [
        "#Total order\n",
        "df['order_id'].count()"
      ],
      "metadata": {
        "colab": {
          "base_uri": "https://localhost:8080/"
        },
        "id": "bg3BVI-WrB3G",
        "outputId": "656c8be4-9bea-4dcd-b9ae-699c075393d9"
      },
      "execution_count": null,
      "outputs": [
        {
          "output_type": "execute_result",
          "data": {
            "text/plain": [
              "5000"
            ]
          },
          "metadata": {},
          "execution_count": 5
        }
      ]
    },
    {
      "cell_type": "code",
      "source": [
        "## find stats about order cost\n",
        "df['order_amount'].describe()"
      ],
      "metadata": {
        "colab": {
          "base_uri": "https://localhost:8080/"
        },
        "id": "aYKNjrGLFpYu",
        "outputId": "705fe7f1-a3aa-4bf9-d3db-873824a4ed09"
      },
      "execution_count": null,
      "outputs": [
        {
          "output_type": "execute_result",
          "data": {
            "text/plain": [
              "count      5000.000000\n",
              "mean       3145.128000\n",
              "std       41282.539349\n",
              "min          90.000000\n",
              "25%         163.000000\n",
              "50%         284.000000\n",
              "75%         390.000000\n",
              "max      704000.000000\n",
              "Name: order_amount, dtype: float64"
            ]
          },
          "metadata": {},
          "execution_count": 6
        }
      ]
    },
    {
      "cell_type": "markdown",
      "source": [
        "###**(a)**\n",
        "\n",
        "\n",
        "From above data we can observe that min value of order is 90 while maximum value is 70400, so the range is quite vast. \n",
        "Higher std deviation indicates that the values are far apart, thus higher proability of outliers.\n",
        "\n",
        "Further if we look at percentiles, we observe that 75% of data is less than 390 value, which is much less than mean (average). Thus, we can conclude that average cost is influenced by few sales with high cost. But majority(75%) of the sales are less than 400."
      ],
      "metadata": {
        "id": "dH7GTHxmGZyc"
      }
    },
    {
      "cell_type": "code",
      "source": [
        "df['order_amount'].hist()"
      ],
      "metadata": {
        "colab": {
          "base_uri": "https://localhost:8080/",
          "height": 283
        },
        "id": "xuUuWf42Gj-6",
        "outputId": "133134a5-ba9d-4450-9558-6bbad1a30702"
      },
      "execution_count": null,
      "outputs": [
        {
          "output_type": "execute_result",
          "data": {
            "text/plain": [
              "<matplotlib.axes._subplots.AxesSubplot at 0x7fe4aa9f6290>"
            ]
          },
          "metadata": {},
          "execution_count": 7
        },
        {
          "output_type": "display_data",
          "data": {
            "text/plain": [
              "<Figure size 432x288 with 1 Axes>"
            ],
            "image/png": "[encoded data removed]"
          },
          "metadata": {
            "needs_background": "light"
          }
        }
      ]
    },
    {
      "cell_type": "markdown",
      "source": [
        "From histogram, we can observe that there are very few orders in range of 700000. These must be due to bulk order of items. Let's explore number of items in those orders. "
      ],
      "metadata": {
        "id": "L-jqXSV1odme"
      }
    },
    {
      "cell_type": "code",
      "source": [
        "df7 = df[df['order_amount']>700000]\n",
        "df7"
      ],
      "metadata": {
        "colab": {
          "base_uri": "https://localhost:8080/",
          "height": 582
        },
        "id": "MczxKpohriU_",
        "outputId": "82c64277-bcd0-457f-f6a3-332c2367e58d"
      },
      "execution_count": null,
      "outputs": [
        {
          "output_type": "execute_result",
          "data": {
            "text/plain": [
              "      order_id  shop_id  user_id  order_amount  total_items payment_method  \\\n",
              "15        16.0     42.0    607.0      704000.0       2000.0    credit_card   \n",
              "60        61.0     42.0    607.0      704000.0       2000.0    credit_card   \n",
              "520      521.0     42.0    607.0      704000.0       2000.0    credit_card   \n",
              "1104    1105.0     42.0    607.0      704000.0       2000.0    credit_card   \n",
              "1362    1363.0     42.0    607.0      704000.0       2000.0    credit_card   \n",
              "1436    1437.0     42.0    607.0      704000.0       2000.0    credit_card   \n",
              "1562    1563.0     42.0    607.0      704000.0       2000.0    credit_card   \n",
              "1602    1603.0     42.0    607.0      704000.0       2000.0    credit_card   \n",
              "2153    2154.0     42.0    607.0      704000.0       2000.0    credit_card   \n",
              "2297    2298.0     42.0    607.0      704000.0       2000.0    credit_card   \n",
              "2835    2836.0     42.0    607.0      704000.0       2000.0    credit_card   \n",
              "2969    2970.0     42.0    607.0      704000.0       2000.0    credit_card   \n",
              "3332    3333.0     42.0    607.0      704000.0       2000.0    credit_card   \n",
              "4056    4057.0     42.0    607.0      704000.0       2000.0    credit_card   \n",
              "4646    4647.0     42.0    607.0      704000.0       2000.0    credit_card   \n",
              "4868    4869.0     42.0    607.0      704000.0       2000.0    credit_card   \n",
              "4882    4883.0     42.0    607.0      704000.0       2000.0    credit_card   \n",
              "\n",
              "              created_at  \n",
              "15   2017-03-07 04:00:00  \n",
              "60   2017-03-04 04:00:00  \n",
              "520  2017-03-02 04:00:00  \n",
              "1104 2017-03-24 04:00:00  \n",
              "1362 2017-03-15 04:00:00  \n",
              "1436 2017-03-11 04:00:00  \n",
              "1562 2017-03-19 04:00:00  \n",
              "1602 2017-03-17 04:00:00  \n",
              "2153 2017-03-12 04:00:00  \n",
              "2297 2017-03-07 04:00:00  \n",
              "2835 2017-03-28 04:00:00  \n",
              "2969 2017-03-28 04:00:00  \n",
              "3332 2017-03-24 04:00:00  \n",
              "4056 2017-03-28 04:00:00  \n",
              "4646 2017-03-02 04:00:00  \n",
              "4868 2017-03-22 04:00:00  \n",
              "4882 2017-03-25 04:00:00  "
            ],
            "text/html": [
              "\n",
              "  <div id=\"df-c7c132ed-0db0-4743-b79d-524fb919db76\">\n",
              "    <div class=\"colab-df-container\">\n",
              "      <div>\n",
              "<style scoped>\n",
              "    .dataframe tbody tr th:only-of-type {\n",
              "        vertical-align: middle;\n",
              "    }\n",
              "\n",
              "    .dataframe tbody tr th {\n",
              "        vertical-align: top;\n",
              "    }\n",
              "\n",
              "    .dataframe thead th {\n",
              "        text-align: right;\n",
              "    }\n",
              "</style>\n",
              "<table border=\"1\" class=\"dataframe\">\n",
              "  <thead>\n",
              "    <tr style=\"text-align: right;\">\n",
              "      <th></th>\n",
              "      <th>order_id</th>\n",
              "      <th>shop_id</th>\n",
              "      <th>user_id</th>\n",
              "      <th>order_amount</th>\n",
              "      <th>total_items</th>\n",
              "      <th>payment_method</th>\n",
              "      <th>created_at</th>\n",
              "    </tr>\n",
              "  </thead>\n",
              "  <tbody>\n",
              "    <tr>\n",
              "      <th>15</th>\n",
              "      <td>16.0</td>\n",
              "      <td>42.0</td>\n",
              "      <td>607.0</td>\n",
              "      <td>704000.0</td>\n",
              "      <td>2000.0</td>\n",
              "      <td>credit_card</td>\n",
              "      <td>2017-03-07 04:00:00</td>\n",
              "    </tr>\n",
              "    <tr>\n",
              "      <th>60</th>\n",
              "      <td>61.0</td>\n",
              "      <td>42.0</td>\n",
              "      <td>607.0</td>\n",
              "      <td>704000.0</td>\n",
              "      <td>2000.0</td>\n",
              "      <td>credit_card</td>\n",
              "      <td>2017-03-04 04:00:00</td>\n",
              "    </tr>\n",
              "    <tr>\n",
              "      <th>520</th>\n",
              "      <td>521.0</td>\n",
              "      <td>42.0</td>\n",
              "      <td>607.0</td>\n",
              "      <td>704000.0</td>\n",
              "      <td>2000.0</td>\n",
              "      <td>credit_card</td>\n",
              "      <td>2017-03-02 04:00:00</td>\n",
              "    </tr>\n",
              "    <tr>\n",
              "      <th>1104</th>\n",
              "      <td>1105.0</td>\n",
              "      <td>42.0</td>\n",
              "      <td>607.0</td>\n",
              "      <td>704000.0</td>\n",
              "      <td>2000.0</td>\n",
              "      <td>credit_card</td>\n",
              "      <td>2017-03-24 04:00:00</td>\n",
              "    </tr>\n",
              "    <tr>\n",
              "      <th>1362</th>\n",
              "      <td>1363.0</td>\n",
              "      <td>42.0</td>\n",
              "      <td>607.0</td>\n",
              "      <td>704000.0</td>\n",
              "      <td>2000.0</td>\n",
              "      <td>credit_card</td>\n",
              "      <td>2017-03-15 04:00:00</td>\n",
              "    </tr>\n",
              "    <tr>\n",
              "      <th>1436</th>\n",
              "      <td>1437.0</td>\n",
              "      <td>42.0</td>\n",
              "      <td>607.0</td>\n",
              "      <td>704000.0</td>\n",
              "      <td>2000.0</td>\n",
              "      <td>credit_card</td>\n",
              "      <td>2017-03-11 04:00:00</td>\n",
              "    </tr>\n",
              "    <tr>\n",
              "      <th>1562</th>\n",
              "      <td>1563.0</td>\n",
              "      <td>42.0</td>\n",
              "      <td>607.0</td>\n",
              "      <td>704000.0</td>\n",
              "      <td>2000.0</td>\n",
              "      <td>credit_card</td>\n",
              "      <td>2017-03-19 04:00:00</td>\n",
              "    </tr>\n",
              "    <tr>\n",
              "      <th>1602</th>\n",
              "      <td>1603.0</td>\n",
              "      <td>42.0</td>\n",
              "      <td>607.0</td>\n",
              "      <td>704000.0</td>\n",
              "      <td>2000.0</td>\n",
              "      <td>credit_card</td>\n",
              "      <td>2017-03-17 04:00:00</td>\n",
              "    </tr>\n",
              "    <tr>\n",
              "      <th>2153</th>\n",
              "      <td>2154.0</td>\n",
              "      <td>42.0</td>\n",
              "      <td>607.0</td>\n",
              "      <td>704000.0</td>\n",
              "      <td>2000.0</td>\n",
              "      <td>credit_card</td>\n",
              "      <td>2017-03-12 04:00:00</td>\n",
              "    </tr>\n",
              "    <tr>\n",
              "      <th>2297</th>\n",
              "      <td>2298.0</td>\n",
              "      <td>42.0</td>\n",
              "      <td>607.0</td>\n",
              "      <td>704000.0</td>\n",
              "      <td>2000.0</td>\n",
              "      <td>credit_card</td>\n",
              "      <td>2017-03-07 04:00:00</td>\n",
              "    </tr>\n",
              "    <tr>\n",
              "      <th>2835</th>\n",
              "      <td>2836.0</td>\n",
              "      <td>42.0</td>\n",
              "      <td>607.0</td>\n",
              "      <td>704000.0</td>\n",
              "      <td>2000.0</td>\n",
              "      <td>credit_card</td>\n",
              "      <td>2017-03-28 04:00:00</td>\n",
              "    </tr>\n",
              "    <tr>\n",
              "      <th>2969</th>\n",
              "      <td>2970.0</td>\n",
              "      <td>42.0</td>\n",
              "      <td>607.0</td>\n",
              "      <td>704000.0</td>\n",
              "      <td>2000.0</td>\n",
              "      <td>credit_card</td>\n",
              "      <td>2017-03-28 04:00:00</td>\n",
              "    </tr>\n",
              "    <tr>\n",
              "      <th>3332</th>\n",
              "      <td>3333.0</td>\n",
              "      <td>42.0</td>\n",
              "      <td>607.0</td>\n",
              "      <td>704000.0</td>\n",
              "      <td>2000.0</td>\n",
              "      <td>credit_card</td>\n",
              "      <td>2017-03-24 04:00:00</td>\n",
              "    </tr>\n",
              "    <tr>\n",
              "      <th>4056</th>\n",
              "      <td>4057.0</td>\n",
              "      <td>42.0</td>\n",
              "      <td>607.0</td>\n",
              "      <td>704000.0</td>\n",
              "      <td>2000.0</td>\n",
              "      <td>credit_card</td>\n",
              "      <td>2017-03-28 04:00:00</td>\n",
              "    </tr>\n",
              "    <tr>\n",
              "      <th>4646</th>\n",
              "      <td>4647.0</td>\n",
              "      <td>42.0</td>\n",
              "      <td>607.0</td>\n",
              "      <td>704000.0</td>\n",
              "      <td>2000.0</td>\n",
              "      <td>credit_card</td>\n",
              "      <td>2017-03-02 04:00:00</td>\n",
              "    </tr>\n",
              "    <tr>\n",
              "      <th>4868</th>\n",
              "      <td>4869.0</td>\n",
              "      <td>42.0</td>\n",
              "      <td>607.0</td>\n",
              "      <td>704000.0</td>\n",
              "      <td>2000.0</td>\n",
              "      <td>credit_card</td>\n",
              "      <td>2017-03-22 04:00:00</td>\n",
              "    </tr>\n",
              "    <tr>\n",
              "      <th>4882</th>\n",
              "      <td>4883.0</td>\n",
              "      <td>42.0</td>\n",
              "      <td>607.0</td>\n",
              "      <td>704000.0</td>\n",
              "      <td>2000.0</td>\n",
              "      <td>credit_card</td>\n",
              "      <td>2017-03-25 04:00:00</td>\n",
              "    </tr>\n",
              "  </tbody>\n",
              "</table>\n",
              "</div>\n",
              "      <button class=\"colab-df-convert\" onclick=\"convertToInteractive('df-c7c132ed-0db0-4743-b79d-524fb919db76')\"\n",
              "              title=\"Convert this dataframe to an interactive table.\"\n",
              "              style=\"display:none;\">\n",
              "        \n",
              "  <svg xmlns=\"http://www.w3.org/2000/svg\" height=\"24px\"viewBox=\"0 0 24 24\"\n",
              "       width=\"24px\">\n",
              "    <path d=\"M0 0h24v24H0V0z\" fill=\"none\"/>\n",
              "    <path d=\"M18.56 5.44l.94 2.06.94-2.06 2.06-.94-2.06-.94-.94-2.06-.94 2.06-2.06.94zm-11 1L8.5 8.5l.94-2.06 2.06-.94-2.06-.94L8.5 2.5l-.94 2.06-2.06.94zm10 10l.94 2.06.94-2.06 2.06-.94-2.06-.94-.94-2.06-.94 2.06-2.06.94z\"/><path d=\"M17.41 7.96l-1.37-1.37c-.4-.4-.92-.59-1.43-.59-.52 0-1.04.2-1.43.59L10.3 9.45l-7.72 7.72c-.78.78-.78 2.05 0 2.83L4 21.41c.39.39.9.59 1.41.59.51 0 1.02-.2 1.41-.59l7.78-7.78 2.81-2.81c.8-.78.8-2.07 0-2.86zM5.41 20L4 18.59l7.72-7.72 1.47 1.35L5.41 20z\"/>\n",
              "  </svg>\n",
              "      </button>\n",
              "      \n",
              "  <style>\n",
              "    .colab-df-container {\n",
              "      display:flex;\n",
              "      flex-wrap:wrap;\n",
              "      gap: 12px;\n",
              "    }\n",
              "\n",
              "    .colab-df-convert {\n",
              "      background-color: #E8F0FE;\n",
              "      border: none;\n",
              "      border-radius: 50%;\n",
              "      cursor: pointer;\n",
              "      display: none;\n",
              "      fill: #1967D2;\n",
              "      height: 32px;\n",
              "      padding: 0 0 0 0;\n",
              "      width: 32px;\n",
              "    }\n",
              "\n",
              "    .colab-df-convert:hover {\n",
              "      background-color: #E2EBFA;\n",
              "      box-shadow: 0px 1px 2px rgba(60, 64, 67, 0.3), 0px 1px 3px 1px rgba(60, 64, 67, 0.15);\n",
              "      fill: #174EA6;\n",
              "    }\n",
              "\n",
              "    [theme=dark] .colab-df-convert {\n",
              "      background-color: #3B4455;\n",
              "      fill: #D2E3FC;\n",
              "    }\n",
              "\n",
              "    [theme=dark] .colab-df-convert:hover {\n",
              "      background-color: #434B5C;\n",
              "      box-shadow: 0px 1px 3px 1px rgba(0, 0, 0, 0.15);\n",
              "      filter: drop-shadow(0px 1px 2px rgba(0, 0, 0, 0.3));\n",
              "      fill: #FFFFFF;\n",
              "    }\n",
              "  </style>\n",
              "\n",
              "      <script>\n",
              "        const buttonEl =\n",
              "          document.querySelector('#df-c7c132ed-0db0-4743-b79d-524fb919db76 button.colab-df-convert');\n",
              "        buttonEl.style.display =\n",
              "          google.colab.kernel.accessAllowed ? 'block' : 'none';\n",
              "\n",
              "        async function convertToInteractive(key) {\n",
              "          const element = document.querySelector('#df-c7c132ed-0db0-4743-b79d-524fb919db76');\n",
              "          const dataTable =\n",
              "            await google.colab.kernel.invokeFunction('convertToInteractive',\n",
              "                                                     [key], {});\n",
              "          if (!dataTable) return;\n",
              "\n",
              "          const docLinkHtml = 'Like what you see? Visit the ' +\n",
              "            '<a target=\"_blank\" href=https://colab.research.google.com/notebooks/data_table.ipynb>data table notebook</a>'\n",
              "            + ' to learn more about interactive tables.';\n",
              "          element.innerHTML = '';\n",
              "          dataTable['output_type'] = 'display_data';\n",
              "          await google.colab.output.renderOutput(dataTable, element);\n",
              "          const docLink = document.createElement('div');\n",
              "          docLink.innerHTML = docLinkHtml;\n",
              "          element.appendChild(docLink);\n",
              "        }\n",
              "      </script>\n",
              "    </div>\n",
              "  </div>\n",
              "  "
            ]
          },
          "metadata": {},
          "execution_count": 8
        }
      ]
    },
    {
      "cell_type": "markdown",
      "source": [
        "If we observe above data, we can see that one user (userid=607) has made several bulk order in the month of March in 2017. The total number of items ordered is 2000 in this case. So cost per sneaker would be 704000/2000 = 352.\n",
        "This looks like a bit expensive value contradicting \"affordable sneakers\" in the problem statement."
      ],
      "metadata": {
        "id": "rMSeeSnztDr3"
      }
    },
    {
      "cell_type": "code",
      "source": [
        "df7.shape"
      ],
      "metadata": {
        "colab": {
          "base_uri": "https://localhost:8080/"
        },
        "id": "6PFxUxOquGIF",
        "outputId": "ecb8c0a7-a790-4b77-ce29-a69c064938ee"
      },
      "execution_count": null,
      "outputs": [
        {
          "output_type": "execute_result",
          "data": {
            "text/plain": [
              "(17, 7)"
            ]
          },
          "metadata": {},
          "execution_count": 9
        }
      ]
    },
    {
      "cell_type": "code",
      "source": [
        "df['total_items'].hist()"
      ],
      "metadata": {
        "colab": {
          "base_uri": "https://localhost:8080/",
          "height": 283
        },
        "id": "uCxjc3K9sf7p",
        "outputId": "6888db75-d8ab-4870-c47a-625ddbe459dd"
      },
      "execution_count": null,
      "outputs": [
        {
          "output_type": "execute_result",
          "data": {
            "text/plain": [
              "<matplotlib.axes._subplots.AxesSubplot at 0x7fe4aa8c5d50>"
            ]
          },
          "metadata": {},
          "execution_count": 10
        },
        {
          "output_type": "display_data",
          "data": {
            "text/plain": [
              "<Figure size 432x288 with 1 Axes>"
            ],
            "image/png": "[encoded data removed]"
          },
          "metadata": {
            "needs_background": "light"
          }
        }
      ]
    },
    {
      "cell_type": "code",
      "source": [
        "df[df['total_items'] > 1750].shape"
      ],
      "metadata": {
        "colab": {
          "base_uri": "https://localhost:8080/"
        },
        "id": "F3EtjsYFtnFm",
        "outputId": "397d5960-0b8e-4d26-ba84-c5554f1007c0"
      },
      "execution_count": null,
      "outputs": [
        {
          "output_type": "execute_result",
          "data": {
            "text/plain": [
              "(17, 7)"
            ]
          },
          "metadata": {},
          "execution_count": 11
        }
      ]
    },
    {
      "cell_type": "markdown",
      "source": [
        "There are total 17 orders out of 5000 made by one user that has caused the data to be skewed. Effect of such outliers can be reduced by using Metrics like Median (middle value) or Mode (most frequent value) for order_amount."
      ],
      "metadata": {
        "id": "yR6rYGGHvLgK"
      }
    },
    {
      "cell_type": "code",
      "source": [
        "print(\"Mean : \", df['order_amount'].mean())\n",
        "print(\"Median : \", df['order_amount'].median())\n",
        "print(\"Mode : \", df['order_amount'].mode())"
      ],
      "metadata": {
        "colab": {
          "base_uri": "https://localhost:8080/"
        },
        "id": "DqHcCaJTu88L",
        "outputId": "3891a5b0-ac16-4c60-a8b6-bcc16fc4c1d0"
      },
      "execution_count": null,
      "outputs": [
        {
          "output_type": "stream",
          "name": "stdout",
          "text": [
            "Mean :  3145.128\n",
            "Median :  284.0\n",
            "Mode :  0    153.0\n",
            "dtype: float64\n"
          ]
        }
      ]
    },
    {
      "cell_type": "markdown",
      "source": [
        "As we can observe,  Median and Mode metrics are quite closer to AOV , compared to Mean."
      ],
      "metadata": {
        "id": "kiiI1-HRwSgo"
      }
    },
    {
      "cell_type": "markdown",
      "source": [
        "###**(b)**\n",
        "\n",
        "I would prefer Median (middle value) for this dataset, as it is less sensitive to outliers. "
      ],
      "metadata": {
        "id": "EPXCUifK34OL"
      }
    },
    {
      "cell_type": "markdown",
      "source": [
        "###**(c)**\n",
        "\n",
        "Median Value is 284"
      ],
      "metadata": {
        "id": "OfMY5CPp4Evz"
      }
    },
    {
      "cell_type": "markdown",
      "source": [
        "# Question 2\n",
        "\n",
        "Solution is written in the document available in this same repository."
      ],
      "metadata": {
        "id": "CpVfPlT0MoXo"
      }
    }
  ]
}